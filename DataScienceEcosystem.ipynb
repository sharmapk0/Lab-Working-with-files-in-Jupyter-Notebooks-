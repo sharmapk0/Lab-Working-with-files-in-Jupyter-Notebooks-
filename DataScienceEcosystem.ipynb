{
 "cells": [
  {
   "cell_type": "markdown",
   "id": "db6f187e-b260-4a98-84c4-d1dc11432e2d",
   "metadata": {},
   "source": [
    "# Data Science Tools and Ecosystem"
   ]
  },
  {
   "cell_type": "markdown",
   "id": "6d5b6b16-3ee5-4689-a28a-879969c807b6",
   "metadata": {},
   "source": [
    "## Welcome to my notebook where I explore various data science concepts and tools."
   ]
  },
  {
   "cell_type": "markdown",
   "id": "8c273920-ee83-4a0d-98e6-1d09742eff38",
   "metadata": {},
   "source": [
    "## Data Science Languages\r\n",
    "- Python\r\n",
    "- R\r\n",
    "- SQL\r\n",
    "- Julia\r\n"
   ]
  },
  {
   "cell_type": "markdown",
   "id": "bf536740-ecaf-45cd-a14e-cb1d07632536",
   "metadata": {},
   "source": [
    "## Data Science Libraries\n",
    "- pandas (Python)\n",
    "- NumPy (Python)\n",
    "- ggplot2 (R)\n",
    "- dplyr (R)\n"
   ]
  },
  {
   "cell_type": "markdown",
   "id": "949288bf-53d2-4072-a3e3-3c9a6be8b86a",
   "metadata": {},
   "source": [
    "| Tool          | Type           | Use Case                           |\n",
    "|---------------|----------------|------------------------------------|\n",
    "| Jupyter       | IDE            | Interactive computing             |\n",
    "| TensorFlow    | Library        | Machine Learning                   |\n",
    "| Hadoop        | Framework      | Distributed storage & processing   |\n",
    "| Tableau       | Visualization  | Business Intelligence              |\n"
   ]
  },
  {
   "cell_type": "markdown",
   "id": "3bbed31e-7013-4d13-84cf-8ff736b53319",
   "metadata": {},
   "source": [
    "In this section, we'll explore basic arithmetic expressions like addition (`+`), subtraction (`-`), multiplication (`*`), and division (`/`).\n"
   ]
  },
  {
   "cell_type": "code",
   "execution_count": 2,
   "id": "2cd2069b-ab8f-4573-ae12-809621c40307",
   "metadata": {},
   "outputs": [
    {
     "name": "stdout",
     "output_type": "stream",
     "text": [
      "17\n"
     ]
    }
   ],
   "source": [
    "# Example code cell\n",
    "result = (5 * 3) + 2\n",
    "print(result)\n"
   ]
  },
  {
   "cell_type": "code",
   "execution_count": 3,
   "id": "ea03676f-7457-4922-8d04-d532e048a546",
   "metadata": {},
   "outputs": [
    {
     "name": "stdout",
     "output_type": "stream",
     "text": [
      "120 minutes is equal to 2.0 hours\n"
     ]
    }
   ],
   "source": [
    "# Example code cell\n",
    "minutes = 120\n",
    "hours = minutes / 60\n",
    "print(f\"{minutes} minutes is equal to {hours} hours\")\n"
   ]
  },
  {
   "cell_type": "markdown",
   "id": "7575d6f9-4468-4535-b4d3-719e756eed56",
   "metadata": {},
   "source": [
    "## Objectives\n",
    "- To understand the basics of data manipulation\n",
    "- To learn how to visualize data\n",
    "- To gain proficiency in data analysis\n"
   ]
  },
  {
   "cell_type": "markdown",
   "id": "1fc9e482-a242-4c01-ae66-50f998c63f3a",
   "metadata": {},
   "source": [
    "**Author:** Pankaj Sharma\n"
   ]
  },
  {
   "cell_type": "code",
   "execution_count": null,
   "id": "c41ccf31-cdf5-452c-9469-f9226c96a3c2",
   "metadata": {},
   "outputs": [],
   "source": []
  }
 ],
 "metadata": {
  "kernelspec": {
   "display_name": "Python 3 (ipykernel)",
   "language": "python",
   "name": "python3"
  },
  "language_info": {
   "codemirror_mode": {
    "name": "ipython",
    "version": 3
   },
   "file_extension": ".py",
   "mimetype": "text/x-python",
   "name": "python",
   "nbconvert_exporter": "python",
   "pygments_lexer": "ipython3",
   "version": "3.10.9"
  }
 },
 "nbformat": 4,
 "nbformat_minor": 5
}
